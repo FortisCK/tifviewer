{
 "cells": [
  {
   "cell_type": "code",
   "execution_count": 2,
   "metadata": {},
   "outputs": [],
   "source": [
    "from PyQt5 import QtWidgets, QtCore\n",
    "from pyqtgraph import ImageView\n",
    "from tifffile import TiffFile"
   ]
  },
  {
   "cell_type": "code",
   "execution_count": 3,
   "metadata": {},
   "outputs": [],
   "source": [
    "class Viewer(QtWidgets.QMainWindow):\n",
    "\n",
    "    def __init__(self):\n",
    "        QtWidgets.QMainWindow.__init__(self)\n",
    "\n",
    "        self.path = QtWidgets.QFileDialog.getOpenFileName(self, 'Choose file', '/', \"(*.tiff *.tif)\")\n",
    "        a=self.path\n",
    "        if not a[0]:\n",
    "            return\n",
    "        a = a[0]\n",
    "\n",
    "        self.tif = TiffFile(a)\n",
    "\n",
    "        self.widget = QtWidgets.QWidget(parent=self)\n",
    "        self.vlayout = QtWidgets.QVBoxLayout(self.widget)\n",
    "\n",
    "        iv = ImageView(parent=self)\n",
    "        iv.setImage(self.tif.asarray(key=0))\n",
    "        self.vlayout.addWidget(iv)\n",
    "\n",
    "        self.setCentralWidget(self.widget)"
   ]
  },
  {
   "cell_type": "code",
   "execution_count": 4,
   "metadata": {},
   "outputs": [],
   "source": [
    "app = QtWidgets.QApplication([])\n",
    "\n",
    "viewer = Viewer()"
   ]
  },
  {
   "cell_type": "code",
   "execution_count": 5,
   "metadata": {},
   "outputs": [
    {
     "data": {
      "text/plain": [
       "('C:/Users/FortisCK/Documents/DRImgs/pelvis.tif', '(*.tiff *.tif)')"
      ]
     },
     "execution_count": 5,
     "metadata": {},
     "output_type": "execute_result"
    }
   ],
   "source": [
    "viewer.path"
   ]
  },
  {
   "cell_type": "code",
   "execution_count": null,
   "metadata": {},
   "outputs": [],
   "source": []
  }
 ],
 "metadata": {
  "kernelspec": {
   "display_name": "Python 3.9.13 ('viewer')",
   "language": "python",
   "name": "python3"
  },
  "language_info": {
   "codemirror_mode": {
    "name": "ipython",
    "version": 3
   },
   "file_extension": ".py",
   "mimetype": "text/x-python",
   "name": "python",
   "nbconvert_exporter": "python",
   "pygments_lexer": "ipython3",
   "version": "3.9.13"
  },
  "orig_nbformat": 4,
  "vscode": {
   "interpreter": {
    "hash": "8dbbff3d42507631bb64516c4a30bfda2d078310d5327e38ebd81564a14d28d1"
   }
  }
 },
 "nbformat": 4,
 "nbformat_minor": 2
}
